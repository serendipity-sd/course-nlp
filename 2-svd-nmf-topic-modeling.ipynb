{
  "nbformat": 4,
  "nbformat_minor": 0,
  "metadata": {
    "kernelspec": {
      "display_name": "Python 3",
      "language": "python",
      "name": "python3"
    },
    "language_info": {
      "codemirror_mode": {
        "name": "ipython",
        "version": 3
      },
      "file_extension": ".py",
      "mimetype": "text/x-python",
      "name": "python",
      "nbconvert_exporter": "python",
      "pygments_lexer": "ipython3",
      "version": "3.7.3"
    },
    "colab": {
      "name": "2-svd-nmf-topic-modeling.ipynb",
      "provenance": [],
      "include_colab_link": true
    }
  },
  "cells": [
    {
      "cell_type": "markdown",
      "metadata": {
        "id": "view-in-github",
        "colab_type": "text"
      },
      "source": [
        "<a href=\"https://colab.research.google.com/github/serendipity-sd/course-nlp/blob/master/2-svd-nmf-topic-modeling.ipynb\" target=\"_parent\"><img src=\"https://colab.research.google.com/assets/colab-badge.svg\" alt=\"Open In Colab\"/></a>"
      ]
    },
    {
      "cell_type": "markdown",
      "metadata": {
        "id": "SIGjyLRnndU7",
        "colab_type": "text"
      },
      "source": [
        "# Topic Modeling with NMF and SVD"
      ]
    },
    {
      "cell_type": "markdown",
      "metadata": {
        "id": "e48yFGrHndU9",
        "colab_type": "text"
      },
      "source": [
        "## The problem"
      ]
    },
    {
      "cell_type": "markdown",
      "metadata": {
        "id": "xDJ3saiZndU_",
        "colab_type": "text"
      },
      "source": [
        "Topic modeling is a fun way to start our study of NLP. We will use two popular **matrix decomposition techniques**. \n",
        "\n",
        "We start with a **term-document matrix**:\n",
        "\n",
        "<img src=\"https://github.com/serendipity-sd/course-nlp/blob/master/images/document_term.png?raw=1\" alt=\"term-document matrix\" style=\"width: 80%\"/>\n",
        "\n",
        "source: [Introduction to Information Retrieval](http://player.slideplayer.com/15/4528582/#)\n",
        "\n",
        "We can decompose this into one tall thin matrix times one wide short matrix (possibly with a diagonal matrix in between).\n",
        "\n",
        "Notice that this representation does not take into account word order or sentence structure.  It's an example of a **bag of words** approach."
      ]
    },
    {
      "cell_type": "markdown",
      "metadata": {
        "id": "MbYnQ9-CndVA",
        "colab_type": "text"
      },
      "source": [
        "Latent Semantic Analysis (LSA) uses Singular Value Decomposition (SVD)."
      ]
    },
    {
      "cell_type": "markdown",
      "metadata": {
        "id": "AwLhEju4ndVB",
        "colab_type": "text"
      },
      "source": [
        "### Motivation"
      ]
    },
    {
      "cell_type": "markdown",
      "metadata": {
        "id": "-3ZnFMbbndVC",
        "colab_type": "text"
      },
      "source": [
        "Consider the most extreme case - reconstructing the matrix using an outer product of two vectors. Clearly, in most cases we won't be able to reconstruct the matrix exactly. But if we had one vector with the relative frequency of each vocabulary word out of the total word count, and one with the average number of words per document, then that outer product would be as close as we can get.\n",
        "\n",
        "Now consider increasing that matrices to two columns and two rows. The optimal decomposition would now be to cluster the documents into two groups, each of which has as different a distribution of words as possible to each other, but as similar as possible amongst the documents in the cluster. We will call those two groups \"topics\". And we would cluster the words into two groups, based on those which most frequently appear in each of the topics. "
      ]
    },
    {
      "cell_type": "markdown",
      "metadata": {
        "id": "Aum61IvQndVD",
        "colab_type": "text"
      },
      "source": [
        "## Getting started"
      ]
    },
    {
      "cell_type": "markdown",
      "metadata": {
        "id": "Ku33rzqIndVE",
        "colab_type": "text"
      },
      "source": [
        "We'll take a dataset of documents in several different categories, and find topics (consisting of groups of words) for them.  Knowing the actual categories helps us evaluate if the topics we find make sense.\n",
        "\n",
        "We will try this with two different matrix factorizations: **Singular Value Decomposition (SVD)** and **Non-negative Matrix Factorization (NMF)**"
      ]
    },
    {
      "cell_type": "code",
      "metadata": {
        "id": "V7mlGRzbndVE",
        "colab_type": "code",
        "colab": {}
      },
      "source": [
        "import numpy as np\n",
        "from sklearn.datasets import fetch_20newsgroups\n",
        "from sklearn import decomposition\n",
        "from scipy import linalg\n",
        "import matplotlib.pyplot as plt"
      ],
      "execution_count": 44,
      "outputs": []
    },
    {
      "cell_type": "code",
      "metadata": {
        "id": "T_mlfG8dponR",
        "colab_type": "code",
        "colab": {}
      },
      "source": [
        ""
      ],
      "execution_count": 28,
      "outputs": []
    },
    {
      "cell_type": "code",
      "metadata": {
        "id": "LiBDCw4DndVK",
        "colab_type": "code",
        "colab": {}
      },
      "source": [
        "%matplotlib inline\n",
        "np.set_printoptions(suppress=True)"
      ],
      "execution_count": 29,
      "outputs": []
    },
    {
      "cell_type": "markdown",
      "metadata": {
        "id": "vJoFp_cRndVP",
        "colab_type": "text"
      },
      "source": [
        "### Additional Resources"
      ]
    },
    {
      "cell_type": "markdown",
      "metadata": {
        "id": "u4aregu6ndVQ",
        "colab_type": "text"
      },
      "source": [
        "- [Data source](http://scikit-learn.org/stable/datasets/twenty_newsgroups.html): Newsgroups are discussion groups on Usenet, which was popular in the 80s and 90s before the web really took off.  This dataset includes 18,000 newsgroups posts with 20 topics.\n",
        "- [Chris Manning's book chapter](https://nlp.stanford.edu/IR-book/pdf/18lsi.pdf) on matrix factorization and LSI \n",
        "- Scikit learn [truncated SVD LSI details](http://scikit-learn.org/stable/modules/decomposition.html#lsa)\n",
        "\n",
        "### Other Tutorials\n",
        "- [Scikit-Learn: Out-of-core classification of text documents](http://scikit-learn.org/stable/auto_examples/applications/plot_out_of_core_classification.html): uses [Reuters-21578](https://archive.ics.uci.edu/ml/datasets/reuters-21578+text+categorization+collection) dataset (Reuters articles labeled with ~100 categories), HashingVectorizer\n",
        "- [Text Analysis with Topic Models for the Humanities and Social Sciences](https://de.dariah.eu/tatom/index.html): uses [British and French Literature dataset](https://de.dariah.eu/tatom/datasets.html) of Jane Austen, Charlotte Bronte, Victor Hugo, and more"
      ]
    },
    {
      "cell_type": "markdown",
      "metadata": {
        "id": "6scNK_sQndVR",
        "colab_type": "text"
      },
      "source": [
        "## Look at our data"
      ]
    },
    {
      "cell_type": "markdown",
      "metadata": {
        "id": "ofk96EJpndVS",
        "colab_type": "text"
      },
      "source": [
        "Scikit Learn comes with a number of built-in datasets, as well as loading utilities to load several standard external datasets. This is a [great resource](http://scikit-learn.org/stable/datasets/), and the datasets include Boston housing prices, face images, patches of forest, diabetes, breast cancer, and more.  We will be using the newsgroups dataset.\n",
        "\n",
        "Newsgroups are discussion groups on Usenet, which was popular in the 80s and 90s before the web really took off.  This dataset includes 18,000 newsgroups posts with 20 topics.  "
      ]
    },
    {
      "cell_type": "code",
      "metadata": {
        "id": "Zpm4hxsBndVT",
        "colab_type": "code",
        "colab": {}
      },
      "source": [
        "categories = ['alt.atheism', 'talk.religion.misc', 'comp.graphics', 'sci.space']\n",
        "remove = ('headers', 'footers', 'quotes')\n",
        "newsgroups_train = fetch_20newsgroups(subset='train', categories=categories, remove=remove)\n",
        "newsgroups_test = fetch_20newsgroups(subset='test', categories=categories, remove=remove)"
      ],
      "execution_count": 30,
      "outputs": []
    },
    {
      "cell_type": "code",
      "metadata": {
        "id": "-IZOtlUindVY",
        "colab_type": "code",
        "colab": {
          "base_uri": "https://localhost:8080/",
          "height": 34
        },
        "outputId": "cc231d9d-5534-4f91-ff5b-ba193c5353b4"
      },
      "source": [
        "newsgroups_train.filenames.shape, newsgroups_train.target.shape"
      ],
      "execution_count": 31,
      "outputs": [
        {
          "output_type": "execute_result",
          "data": {
            "text/plain": [
              "((2034,), (2034,))"
            ]
          },
          "metadata": {
            "tags": []
          },
          "execution_count": 31
        }
      ]
    },
    {
      "cell_type": "markdown",
      "metadata": {
        "id": "zBzBUfpEndVe",
        "colab_type": "text"
      },
      "source": [
        "Let's look at some of the data.  Can you guess which category these messages are in?"
      ]
    },
    {
      "cell_type": "code",
      "metadata": {
        "id": "OuAP8eCPndVf",
        "colab_type": "code",
        "colab": {
          "base_uri": "https://localhost:8080/",
          "height": 605
        },
        "outputId": "92cf9590-c155-4b4a-8574-c91c0e4f498b"
      },
      "source": [
        "print(\"\\n\".join(newsgroups_train.data[:3]))"
      ],
      "execution_count": 32,
      "outputs": [
        {
          "output_type": "stream",
          "text": [
            "Hi,\n",
            "\n",
            "I've noticed that if you only save a model (with all your mapping planes\n",
            "positioned carefully) to a .3DS file that when you reload it after restarting\n",
            "3DS, they are given a default position and orientation.  But if you save\n",
            "to a .PRJ file their positions/orientation are preserved.  Does anyone\n",
            "know why this information is not stored in the .3DS file?  Nothing is\n",
            "explicitly said in the manual about saving texture rules in the .PRJ file. \n",
            "I'd like to be able to read the texture rule information, does anyone have \n",
            "the format for the .PRJ file?\n",
            "\n",
            "Is the .CEL file format available from somewhere?\n",
            "\n",
            "Rych\n",
            "\n",
            "\n",
            "Seems to be, barring evidence to the contrary, that Koresh was simply\n",
            "another deranged fanatic who thought it neccessary to take a whole bunch of\n",
            "folks with him, children and all, to satisfy his delusional mania. Jim\n",
            "Jones, circa 1993.\n",
            "\n",
            "\n",
            "Nope - fruitcakes like Koresh have been demonstrating such evil corruption\n",
            "for centuries.\n",
            "\n",
            " >In article <1993Apr19.020359.26996@sq.sq.com>, msb@sq.sq.com (Mark Brader) \n",
            "\n",
            "MB>                                                             So the\n",
            "MB> 1970 figure seems unlikely to actually be anything but a perijove.\n",
            "\n",
            "JG>Sorry, _perijoves_...I'm not used to talking this language.\n",
            "\n",
            "Couldn't we just say periapsis or apoapsis?\n",
            "\n",
            " \n"
          ],
          "name": "stdout"
        }
      ]
    },
    {
      "cell_type": "markdown",
      "metadata": {
        "id": "PehUMTgMndVm",
        "colab_type": "text"
      },
      "source": [
        "hint: definition of *perijove* is the point in the orbit of a satellite of Jupiter nearest the planet's center "
      ]
    },
    {
      "cell_type": "code",
      "metadata": {
        "id": "TLPOinwxndVn",
        "colab_type": "code",
        "colab": {
          "base_uri": "https://localhost:8080/",
          "height": 34
        },
        "outputId": "13bc5133-1d5f-4fee-b276-049c9c05e78e"
      },
      "source": [
        "np.array(newsgroups_train.target_names)[newsgroups_train.target[:3]]"
      ],
      "execution_count": 33,
      "outputs": [
        {
          "output_type": "execute_result",
          "data": {
            "text/plain": [
              "array(['comp.graphics', 'talk.religion.misc', 'sci.space'], dtype='<U18')"
            ]
          },
          "metadata": {
            "tags": []
          },
          "execution_count": 33
        }
      ]
    },
    {
      "cell_type": "markdown",
      "metadata": {
        "id": "TkryLxdindVr",
        "colab_type": "text"
      },
      "source": [
        "The target attribute is the integer index of the category."
      ]
    },
    {
      "cell_type": "code",
      "metadata": {
        "id": "8JB5PGJjndVs",
        "colab_type": "code",
        "colab": {
          "base_uri": "https://localhost:8080/",
          "height": 34
        },
        "outputId": "33497860-7103-45f6-d162-569799f9cc3c"
      },
      "source": [
        "newsgroups_train.target[:10]"
      ],
      "execution_count": 34,
      "outputs": [
        {
          "output_type": "execute_result",
          "data": {
            "text/plain": [
              "array([1, 3, 2, 0, 2, 0, 2, 1, 2, 1])"
            ]
          },
          "metadata": {
            "tags": []
          },
          "execution_count": 34
        }
      ]
    },
    {
      "cell_type": "code",
      "metadata": {
        "id": "WNgwROsmndVx",
        "colab_type": "code",
        "colab": {}
      },
      "source": [
        "num_topics, num_top_words = 6, 8"
      ],
      "execution_count": 35,
      "outputs": []
    },
    {
      "cell_type": "markdown",
      "metadata": {
        "id": "CAm6_tjJndV0",
        "colab_type": "text"
      },
      "source": [
        "## Stop words, stemming, lemmatization"
      ]
    },
    {
      "cell_type": "markdown",
      "metadata": {
        "id": "DeqVld2TndV2",
        "colab_type": "text"
      },
      "source": [
        "### Stop words"
      ]
    },
    {
      "cell_type": "markdown",
      "metadata": {
        "id": "xrsMcBifndV3",
        "colab_type": "text"
      },
      "source": [
        "From [Intro to Information Retrieval](https://nlp.stanford.edu/IR-book/html/htmledition/dropping-common-terms-stop-words-1.html):\n",
        "\n",
        "*Some extremely common words which would appear to be of little value in helping select documents matching a user need are excluded from the vocabulary entirely. These words are called stop words.*\n",
        "\n",
        "*The general trend in IR systems over time has been from standard use of quite large stop lists (200-300 terms) to very small stop lists (7-12 terms) to no stop list whatsoever. Web search engines generally do not use stop lists.*"
      ]
    },
    {
      "cell_type": "markdown",
      "metadata": {
        "id": "k87TtwEgndV4",
        "colab_type": "text"
      },
      "source": [
        "#### NLTK"
      ]
    },
    {
      "cell_type": "code",
      "metadata": {
        "id": "l3f1noZOndV5",
        "colab_type": "code",
        "colab": {
          "base_uri": "https://localhost:8080/",
          "height": 353
        },
        "outputId": "4ad8e1ec-ecce-4362-b734-bab9df361c52"
      },
      "source": [
        "from sklearn.feature_extraction import stop_words\n",
        "\n",
        "sorted(list(stop_words.ENGLISH_STOP_WORDS))[:20]"
      ],
      "execution_count": 36,
      "outputs": [
        {
          "output_type": "execute_result",
          "data": {
            "text/plain": [
              "['a',\n",
              " 'about',\n",
              " 'above',\n",
              " 'across',\n",
              " 'after',\n",
              " 'afterwards',\n",
              " 'again',\n",
              " 'against',\n",
              " 'all',\n",
              " 'almost',\n",
              " 'alone',\n",
              " 'along',\n",
              " 'already',\n",
              " 'also',\n",
              " 'although',\n",
              " 'always',\n",
              " 'am',\n",
              " 'among',\n",
              " 'amongst',\n",
              " 'amoungst']"
            ]
          },
          "metadata": {
            "tags": []
          },
          "execution_count": 36
        }
      ]
    },
    {
      "cell_type": "markdown",
      "metadata": {
        "id": "sidcMVXwndV-",
        "colab_type": "text"
      },
      "source": [
        "There is no single universal list of stop words."
      ]
    },
    {
      "cell_type": "markdown",
      "metadata": {
        "id": "EMMDIfs1ndV_",
        "colab_type": "text"
      },
      "source": [
        "### Stemming and Lemmatization"
      ]
    },
    {
      "cell_type": "markdown",
      "metadata": {
        "id": "Lcr0vRBkndWA",
        "colab_type": "text"
      },
      "source": [
        "from [Information Retrieval](https://nlp.stanford.edu/IR-book/html/htmledition/stemming-and-lemmatization-1.html) textbook:\n",
        "\n",
        "Are the below words the same?\n",
        "\n",
        "*organize, organizes, and organizing*\n",
        "\n",
        "*democracy, democratic, and democratization*"
      ]
    },
    {
      "cell_type": "markdown",
      "metadata": {
        "id": "etpkUzNjndWB",
        "colab_type": "text"
      },
      "source": [
        "Stemming and Lemmatization both generate the root form of the words. \n",
        "\n",
        "Lemmatization uses the rules about a language.  The resulting tokens are all actual words\n",
        "\n",
        "\"Stemming is the poor-man’s lemmatization.\" (Noah Smith, 2011) Stemming is a crude heuristic that chops the ends off of words.  The resulting tokens may not be actual words. Stemming is faster."
      ]
    },
    {
      "cell_type": "code",
      "metadata": {
        "id": "-Hobv4HandWC",
        "colab_type": "code",
        "colab": {
          "base_uri": "https://localhost:8080/",
          "height": 67
        },
        "outputId": "03fa34be-9228-40f1-c2e3-4b6356e1a820"
      },
      "source": [
        "import nltk\n",
        "nltk.download('wordnet')"
      ],
      "execution_count": 37,
      "outputs": [
        {
          "output_type": "stream",
          "text": [
            "[nltk_data] Downloading package wordnet to /root/nltk_data...\n",
            "[nltk_data]   Package wordnet is already up-to-date!\n"
          ],
          "name": "stdout"
        },
        {
          "output_type": "execute_result",
          "data": {
            "text/plain": [
              "True"
            ]
          },
          "metadata": {
            "tags": []
          },
          "execution_count": 37
        }
      ]
    },
    {
      "cell_type": "code",
      "metadata": {
        "id": "U8o50yUBndWG",
        "colab_type": "code",
        "colab": {}
      },
      "source": [
        "from nltk import stem"
      ],
      "execution_count": 46,
      "outputs": []
    },
    {
      "cell_type": "code",
      "metadata": {
        "id": "CIySFzFwndWN",
        "colab_type": "code",
        "colab": {}
      },
      "source": [
        "\n",
        "wnl = stem.WordNetLemmatizer()\n",
        "porter = stem.porter.PorterStemmer()"
      ],
      "execution_count": 47,
      "outputs": []
    },
    {
      "cell_type": "code",
      "metadata": {
        "id": "Pd0ytX2DndWR",
        "colab_type": "code",
        "colab": {}
      },
      "source": [
        "word_list = ['feet', 'foot', 'foots', 'footing']"
      ],
      "execution_count": 48,
      "outputs": []
    },
    {
      "cell_type": "code",
      "metadata": {
        "id": "BSbPo4v8ndWW",
        "colab_type": "code",
        "colab": {
          "base_uri": "https://localhost:8080/",
          "height": 34
        },
        "outputId": "ff835495-2c3a-43d3-a521-b7cccf039942"
      },
      "source": [
        "[wnl.lemmatize(word) for word in word_list]"
      ],
      "execution_count": 49,
      "outputs": [
        {
          "output_type": "execute_result",
          "data": {
            "text/plain": [
              "['foot', 'foot', 'foot', 'footing']"
            ]
          },
          "metadata": {
            "tags": []
          },
          "execution_count": 49
        }
      ]
    },
    {
      "cell_type": "code",
      "metadata": {
        "id": "uQ-HRgt2ndWZ",
        "colab_type": "code",
        "colab": {
          "base_uri": "https://localhost:8080/",
          "height": 34
        },
        "outputId": "240bc2e7-6d50-41dc-b08c-83be78c8dd8e"
      },
      "source": [
        "[porter.stem(word) for word in word_list]"
      ],
      "execution_count": 50,
      "outputs": [
        {
          "output_type": "execute_result",
          "data": {
            "text/plain": [
              "['feet', 'foot', 'foot', 'foot']"
            ]
          },
          "metadata": {
            "tags": []
          },
          "execution_count": 50
        }
      ]
    },
    {
      "cell_type": "markdown",
      "metadata": {
        "id": "Y7oHglzMndWd",
        "colab_type": "text"
      },
      "source": [
        "Your turn!  Now, try lemmatizing and stemming the following collections of words:\n",
        "\n",
        "- fly, flies, flying\n",
        "- organize, organizes, organizing\n",
        "- universe, university"
      ]
    },
    {
      "cell_type": "markdown",
      "metadata": {
        "id": "UM1Ba7abndWd",
        "colab_type": "text"
      },
      "source": [
        "fastai/course-nlp"
      ]
    },
    {
      "cell_type": "markdown",
      "metadata": {
        "id": "DirXVSoyndWe",
        "colab_type": "text"
      },
      "source": [
        "Stemming and lemmatization are language dependent.  Languages with more complex morphologies may show bigger benefits.  For example, Sanskrit has a very [large number of verb forms](https://en.wikipedia.org/wiki/Sanskrit_verbs). "
      ]
    },
    {
      "cell_type": "markdown",
      "metadata": {
        "id": "5Ib8J1OnndWe",
        "colab_type": "text"
      },
      "source": [
        "### Spacy"
      ]
    },
    {
      "cell_type": "markdown",
      "metadata": {
        "id": "sfBMobeWndWf",
        "colab_type": "text"
      },
      "source": [
        "Stemming and lemmatization are implementation dependent."
      ]
    },
    {
      "cell_type": "markdown",
      "metadata": {
        "id": "bzPmBomundWg",
        "colab_type": "text"
      },
      "source": [
        "Spacy is a very modern & fast nlp library. Spacy is opinionated, in that it typically offers one highly optimized way to do something (whereas nltk offers a huge variety of ways, although they are usually not as optimized).\n",
        "\n",
        "You will need to install it.\n",
        "\n",
        "if you use conda:\n",
        "```\n",
        "conda install -c conda-forge spacy\n",
        "```\n",
        "if you use pip:\n",
        "```\n",
        "pip install -U spacy\n",
        "```\n",
        "\n",
        "You will then need to download the English model:\n",
        "```\n",
        "spacy -m download en_core_web_sm\n",
        "```"
      ]
    },
    {
      "cell_type": "code",
      "metadata": {
        "id": "RgTJXy2HndWh",
        "colab_type": "code",
        "colab": {}
      },
      "source": [
        "import spacy"
      ],
      "execution_count": 51,
      "outputs": []
    },
    {
      "cell_type": "code",
      "metadata": {
        "id": "NXF0taN9ndWk",
        "colab_type": "code",
        "colab": {}
      },
      "source": [
        "from spacy.lemmatizer import Lemmatizer\n",
        "\n",
        "from spacy.lookups import Lookups\n",
        "\n",
        "lookups = Lookups()\n",
        "## lookups.add_table(\"lemma_rules\", {\"noun\": [[\"s\", \"\"]]})\n",
        "\n",
        "spacy_lemmatizer = Lemmatizer(lookups)\n",
        "\n",
        "lemmatizer = Lemmatizer()"
      ],
      "execution_count": 54,
      "outputs": []
    },
    {
      "cell_type": "code",
      "metadata": {
        "id": "3zjTRxUwndWo",
        "colab_type": "code",
        "colab": {}
      },
      "source": [
        "[lemmatizer.lookup(word) for word in word_list]"
      ],
      "execution_count": null,
      "outputs": []
    },
    {
      "cell_type": "markdown",
      "metadata": {
        "id": "gTDVoXNAndWr",
        "colab_type": "text"
      },
      "source": [
        "Spacy doesn't offer a stemmer (since lemmatization is considered better-- this is an example of being opinionated!)"
      ]
    },
    {
      "cell_type": "markdown",
      "metadata": {
        "id": "ZQTlgSPandWs",
        "colab_type": "text"
      },
      "source": [
        "Stop words vary from library to library"
      ]
    },
    {
      "cell_type": "code",
      "metadata": {
        "id": "AVpDYKFbndWs",
        "colab_type": "code",
        "colab": {}
      },
      "source": [
        "nlp = spacy.load(\"en_core_web_sm\")"
      ],
      "execution_count": null,
      "outputs": []
    },
    {
      "cell_type": "code",
      "metadata": {
        "id": "hAlwGJLsndWx",
        "colab_type": "code",
        "colab": {}
      },
      "source": [
        "sorted(list(nlp.Defaults.stop_words))[:20]"
      ],
      "execution_count": null,
      "outputs": []
    },
    {
      "cell_type": "markdown",
      "metadata": {
        "id": "L6Md74SrndW1",
        "colab_type": "text"
      },
      "source": [
        "#### Exercise: What stop words appear in spacy but not in sklearn?"
      ]
    },
    {
      "cell_type": "code",
      "metadata": {
        "id": "cdFCvsG4ndW2",
        "colab_type": "code",
        "colab": {}
      },
      "source": [
        "#Exercise:\n"
      ],
      "execution_count": null,
      "outputs": []
    },
    {
      "cell_type": "markdown",
      "metadata": {
        "heading_collapsed": true,
        "id": "zcVbOR_GndW6",
        "colab_type": "text"
      },
      "source": [
        "#### Exercise: And what stop words are in sklearn but not spacy?"
      ]
    },
    {
      "cell_type": "code",
      "metadata": {
        "hidden": true,
        "id": "b_cXsQ6dndW6",
        "colab_type": "code",
        "colab": {}
      },
      "source": [
        "#Exercise:\n"
      ],
      "execution_count": null,
      "outputs": []
    },
    {
      "cell_type": "markdown",
      "metadata": {
        "heading_collapsed": true,
        "id": "osqT6RvJndW-",
        "colab_type": "text"
      },
      "source": [
        "### When to use these?"
      ]
    },
    {
      "cell_type": "markdown",
      "metadata": {
        "hidden": true,
        "id": "nMp_FkGjndW_",
        "colab_type": "text"
      },
      "source": [
        "<img src=\"https://github.com/serendipity-sd/course-nlp/blob/master/images/skomoroch.png?raw=1\" alt=\"\" style=\"width: 65%\"/>"
      ]
    },
    {
      "cell_type": "markdown",
      "metadata": {
        "hidden": true,
        "id": "Dz7RgeAgndXA",
        "colab_type": "text"
      },
      "source": [
        "These were long considered standard techniques, but they can often **hurt** your performance **if using deep learning**. Stemming, lemmatization, and removing stop words all involve throwing away information.\n",
        "\n",
        "However, they can still be useful when working with simpler models."
      ]
    },
    {
      "cell_type": "markdown",
      "metadata": {
        "heading_collapsed": true,
        "id": "W5LX1hoondXA",
        "colab_type": "text"
      },
      "source": [
        "### Another approach: sub-word units"
      ]
    },
    {
      "cell_type": "markdown",
      "metadata": {
        "hidden": true,
        "id": "PTzKk-xundXB",
        "colab_type": "text"
      },
      "source": [
        "[SentencePiece](https://github.com/google/sentencepiece) library from Google"
      ]
    },
    {
      "cell_type": "markdown",
      "metadata": {
        "id": "42eF4-QPndXB",
        "colab_type": "text"
      },
      "source": [
        "## Data Processing"
      ]
    },
    {
      "cell_type": "markdown",
      "metadata": {
        "id": "-d5bwSjAndXC",
        "colab_type": "text"
      },
      "source": [
        "Next, scikit learn has a method that will extract all the word counts for us.  In the next lesson, we'll learn how to write our own version of CountVectorizer, to see what's happening underneath the hood."
      ]
    },
    {
      "cell_type": "code",
      "metadata": {
        "id": "feAjlgW3ndXD",
        "colab_type": "code",
        "colab": {}
      },
      "source": [
        "from sklearn.feature_extraction.text import CountVectorizer, TfidfVectorizer"
      ],
      "execution_count": null,
      "outputs": []
    },
    {
      "cell_type": "code",
      "metadata": {
        "id": "K6JVfMLundXH",
        "colab_type": "code",
        "colab": {}
      },
      "source": [
        "import nltk\n",
        "# nltk.download('punkt')"
      ],
      "execution_count": null,
      "outputs": []
    },
    {
      "cell_type": "code",
      "metadata": {
        "id": "cZ8WdLFGndXL",
        "colab_type": "code",
        "colab": {}
      },
      "source": [
        "# from nltk import word_tokenize\n",
        "\n",
        "# class LemmaTokenizer(object):\n",
        "#     def __init__(self):\n",
        "#         self.wnl = stem.WordNetLemmatizer()\n",
        "#     def __call__(self, doc):\n",
        "#         return [self.wnl.lemmatize(t) for t in word_tokenize(doc)]"
      ],
      "execution_count": null,
      "outputs": []
    },
    {
      "cell_type": "code",
      "metadata": {
        "id": "8pDi52kMndXQ",
        "colab_type": "code",
        "colab": {}
      },
      "source": [
        "vectorizer = CountVectorizer(stop_words='english') #, tokenizer=LemmaTokenizer())"
      ],
      "execution_count": null,
      "outputs": []
    },
    {
      "cell_type": "code",
      "metadata": {
        "id": "bDM2nLZGndXW",
        "colab_type": "code",
        "colab": {}
      },
      "source": [
        "vectors = vectorizer.fit_transform(newsgroups_train.data).todense() # (documents, vocab)\n",
        "vectors.shape #, vectors.nnz / vectors.shape[0], row_means.shape"
      ],
      "execution_count": null,
      "outputs": []
    },
    {
      "cell_type": "code",
      "metadata": {
        "scrolled": true,
        "id": "63OdLNv0ndXb",
        "colab_type": "code",
        "colab": {}
      },
      "source": [
        "print(len(newsgroups_train.data), vectors.shape)"
      ],
      "execution_count": null,
      "outputs": []
    },
    {
      "cell_type": "code",
      "metadata": {
        "id": "eM0w2mGHndXf",
        "colab_type": "code",
        "colab": {}
      },
      "source": [
        "vocab = np.array(vectorizer.get_feature_names())"
      ],
      "execution_count": null,
      "outputs": []
    },
    {
      "cell_type": "code",
      "metadata": {
        "id": "BH-A8wDUndXj",
        "colab_type": "code",
        "colab": {}
      },
      "source": [
        "vocab.shape"
      ],
      "execution_count": null,
      "outputs": []
    },
    {
      "cell_type": "code",
      "metadata": {
        "id": "8I4PeuGGndXn",
        "colab_type": "code",
        "colab": {}
      },
      "source": [
        "vocab[7000:7020]"
      ],
      "execution_count": null,
      "outputs": []
    },
    {
      "cell_type": "markdown",
      "metadata": {
        "id": "YWftZ56jndXr",
        "colab_type": "text"
      },
      "source": [
        "## Singular Value Decomposition (SVD)"
      ]
    },
    {
      "cell_type": "markdown",
      "metadata": {
        "id": "8GxRkNfjndXs",
        "colab_type": "text"
      },
      "source": [
        "\"SVD is not nearly as famous as it should be.\" - Gilbert Strang"
      ]
    },
    {
      "cell_type": "markdown",
      "metadata": {
        "id": "8CZNC2NgndXs",
        "colab_type": "text"
      },
      "source": [
        "We would clearly expect that the words that appear most frequently in one topic would appear less frequently in the other - otherwise that word wouldn't make a good choice to separate out the two topics. Therefore, we expect the topics to be **orthogonal**.\n",
        "\n",
        "The SVD algorithm factorizes a matrix into one matrix with **orthogonal columns** and one with **orthogonal rows** (along with a diagonal matrix, which contains the **relative importance** of each factor).\n",
        "\n",
        "<img src=\"https://github.com/serendipity-sd/course-nlp/blob/master/images/svd_fb.png?raw=1\" alt=\"\" style=\"width: 80%\"/>\n",
        "(source: [Facebook Research: Fast Randomized SVD](https://research.fb.com/fast-randomized-svd/))\n",
        "\n",
        "SVD is an **exact decomposition**, since the matrices it creates are big enough to fully cover the original matrix. SVD is extremely widely used in linear algebra, and specifically in data science, including:\n",
        "\n",
        "- semantic analysis\n",
        "- collaborative filtering/recommendations ([winning entry for Netflix Prize](https://datajobs.com/data-science-repo/Recommender-Systems-%5BNetflix%5D.pdf))\n",
        "- calculate Moore-Penrose pseudoinverse\n",
        "- data compression\n",
        "- principal component analysis"
      ]
    },
    {
      "cell_type": "markdown",
      "metadata": {
        "id": "WJFRYdM3ndXt",
        "colab_type": "text"
      },
      "source": [
        "Latent Semantic Analysis (LSA) uses SVD.  You will sometimes hear topic modelling referred to as LSA."
      ]
    },
    {
      "cell_type": "code",
      "metadata": {
        "id": "B8PwVSQlndXu",
        "colab_type": "code",
        "colab": {}
      },
      "source": [
        "%time U, s, Vh = linalg.svd(vectors, full_matrices=False)"
      ],
      "execution_count": null,
      "outputs": []
    },
    {
      "cell_type": "code",
      "metadata": {
        "id": "pKxy2FJQndX1",
        "colab_type": "code",
        "colab": {}
      },
      "source": [
        "print(U.shape, s.shape, Vh.shape)"
      ],
      "execution_count": null,
      "outputs": []
    },
    {
      "cell_type": "markdown",
      "metadata": {
        "id": "6H6mxUvHndX6",
        "colab_type": "text"
      },
      "source": [
        "Confirm this is a decomposition of the input."
      ]
    },
    {
      "cell_type": "code",
      "metadata": {
        "id": "DAAs4jILndX7",
        "colab_type": "code",
        "colab": {}
      },
      "source": [
        "s[:4]"
      ],
      "execution_count": null,
      "outputs": []
    },
    {
      "cell_type": "code",
      "metadata": {
        "id": "KtbjZsi0ndX_",
        "colab_type": "code",
        "colab": {}
      },
      "source": [
        "np.diag(np.diag(s[:4]))"
      ],
      "execution_count": null,
      "outputs": []
    },
    {
      "cell_type": "markdown",
      "metadata": {
        "id": "Cru6c_qsndYE",
        "colab_type": "text"
      },
      "source": [
        "#### Answer"
      ]
    },
    {
      "cell_type": "code",
      "metadata": {
        "id": "J9YogJEtndYF",
        "colab_type": "code",
        "colab": {}
      },
      "source": [
        "#Exercise: confrim that U, s, Vh is a decomposition of `vectors`\n"
      ],
      "execution_count": null,
      "outputs": []
    },
    {
      "cell_type": "markdown",
      "metadata": {
        "id": "VfwYTaH0ndYJ",
        "colab_type": "text"
      },
      "source": [
        "Confirm that U, V are orthonormal"
      ]
    },
    {
      "cell_type": "markdown",
      "metadata": {
        "heading_collapsed": true,
        "id": "8MKAVgHFndYK",
        "colab_type": "text"
      },
      "source": [
        "#### Answer"
      ]
    },
    {
      "cell_type": "code",
      "metadata": {
        "hidden": true,
        "id": "_suyIabAndYL",
        "colab_type": "code",
        "colab": {}
      },
      "source": [
        "#Exercise: Confirm that U, Vh are orthonormal\n"
      ],
      "execution_count": null,
      "outputs": []
    },
    {
      "cell_type": "markdown",
      "metadata": {
        "heading_collapsed": true,
        "id": "lrCQ12lzndYQ",
        "colab_type": "text"
      },
      "source": [
        "#### Topics"
      ]
    },
    {
      "cell_type": "markdown",
      "metadata": {
        "hidden": true,
        "id": "d2YT-pgUndYS",
        "colab_type": "text"
      },
      "source": [
        "What can we say about the singular values s?"
      ]
    },
    {
      "cell_type": "code",
      "metadata": {
        "hidden": true,
        "id": "Al_23GsOndYS",
        "colab_type": "code",
        "colab": {}
      },
      "source": [
        "plt.plot(s);"
      ],
      "execution_count": null,
      "outputs": []
    },
    {
      "cell_type": "code",
      "metadata": {
        "hidden": true,
        "id": "KxPHwxeEndYW",
        "colab_type": "code",
        "colab": {}
      },
      "source": [
        "plt.plot(s[:10])"
      ],
      "execution_count": null,
      "outputs": []
    },
    {
      "cell_type": "code",
      "metadata": {
        "hidden": true,
        "id": "3cFn2LkcndYa",
        "colab_type": "code",
        "colab": {}
      },
      "source": [
        "num_top_words=8\n",
        "\n",
        "def show_topics(a):\n",
        "    top_words = lambda t: [vocab[i] for i in np.argsort(t)[:-num_top_words-1:-1]]\n",
        "    topic_words = ([top_words(t) for t in a])\n",
        "    return [' '.join(t) for t in topic_words]"
      ],
      "execution_count": null,
      "outputs": []
    },
    {
      "cell_type": "code",
      "metadata": {
        "hidden": true,
        "id": "FEXZjWdmndYe",
        "colab_type": "code",
        "colab": {}
      },
      "source": [
        "show_topics(Vh[:10])"
      ],
      "execution_count": null,
      "outputs": []
    },
    {
      "cell_type": "markdown",
      "metadata": {
        "hidden": true,
        "id": "IopXn157ndYj",
        "colab_type": "text"
      },
      "source": [
        "We get topics that match the kinds of clusters we would expect! This is despite the fact that this is an **unsupervised algorithm** - which is to say, we never actually told the algorithm how our documents are grouped."
      ]
    },
    {
      "cell_type": "markdown",
      "metadata": {
        "hidden": true,
        "id": "8euggm8fndYk",
        "colab_type": "text"
      },
      "source": [
        "We will return to SVD in **much more detail** later.  For now, the important takeaway is that we have a tool that allows us to exactly factor a matrix into orthogonal columns and orthogonal rows."
      ]
    },
    {
      "cell_type": "markdown",
      "metadata": {
        "id": "JDCKx45pndYl",
        "colab_type": "text"
      },
      "source": [
        "## Non-negative Matrix Factorization (NMF)"
      ]
    },
    {
      "cell_type": "markdown",
      "metadata": {
        "id": "zWmaIcWandYm",
        "colab_type": "text"
      },
      "source": [
        "#### Motivation"
      ]
    },
    {
      "cell_type": "markdown",
      "metadata": {
        "id": "jjHZnRBBndYm",
        "colab_type": "text"
      },
      "source": [
        "<img src=\"https://github.com/serendipity-sd/course-nlp/blob/master/images/face_pca.png?raw=1\" alt=\"PCA on faces\" style=\"width: 80%\"/>\n",
        "\n",
        "(source: [NMF Tutorial](http://perso.telecom-paristech.fr/~essid/teach/NMF_tutorial_ICME-2014.pdf))\n",
        "\n",
        "A more interpretable approach:\n",
        "\n",
        "<img src=\"https://github.com/serendipity-sd/course-nlp/blob/master/images/face_outputs.png?raw=1\" alt=\"NMF on Faces\" style=\"width: 80%\"/>\n",
        "\n",
        "(source: [NMF Tutorial](http://perso.telecom-paristech.fr/~essid/teach/NMF_tutorial_ICME-2014.pdf))"
      ]
    },
    {
      "cell_type": "markdown",
      "metadata": {
        "id": "W6aW8eIIndYn",
        "colab_type": "text"
      },
      "source": [
        "#### Idea"
      ]
    },
    {
      "cell_type": "markdown",
      "metadata": {
        "id": "B_H4iqhRndYo",
        "colab_type": "text"
      },
      "source": [
        "Rather than constraining our factors to be *orthogonal*, another idea would to constrain them to be *non-negative*. NMF is a factorization of a non-negative data set $V$: $$ V = W H$$ into non-negative matrices $W,\\; H$. Often positive factors will be **more easily interpretable** (and this is the reason behind NMF's popularity). \n",
        "\n",
        "<img src=\"https://github.com/serendipity-sd/course-nlp/blob/master/images/face_nmf.png?raw=1\" alt=\"NMF on faces\" style=\"width: 80%\"/>\n",
        "\n",
        "(source: [NMF Tutorial](http://perso.telecom-paristech.fr/~essid/teach/NMF_tutorial_ICME-2014.pdf))\n",
        "\n",
        "Nonnegative matrix factorization (NMF) is a non-exact factorization that factors into one skinny positive matrix and one short positive matrix.  NMF is NP-hard and non-unique.  There are a number of variations on it, created by adding different constraints. "
      ]
    },
    {
      "cell_type": "markdown",
      "metadata": {
        "id": "NeSVMqSOndYo",
        "colab_type": "text"
      },
      "source": [
        "#### Applications of NMF"
      ]
    },
    {
      "cell_type": "markdown",
      "metadata": {
        "id": "xj1CeYWMndYp",
        "colab_type": "text"
      },
      "source": [
        "- [Face Decompositions](http://scikit-learn.org/stable/auto_examples/decomposition/plot_faces_decomposition.html#sphx-glr-auto-examples-decomposition-plot-faces-decomposition-py)\n",
        "- [Collaborative Filtering, eg movie recommendations](http://www.quuxlabs.com/blog/2010/09/matrix-factorization-a-simple-tutorial-and-implementation-in-python/)\n",
        "- [Audio source separation](https://pdfs.semanticscholar.org/cc88/0b24791349df39c5d9b8c352911a0417df34.pdf)\n",
        "- [Chemistry](http://ieeexplore.ieee.org/document/1532909/)\n",
        "- [Bioinformatics](https://bmcbioinformatics.biomedcentral.com/articles/10.1186/s12859-015-0485-4) and [Gene Expression](https://www.ncbi.nlm.nih.gov/pmc/articles/PMC2623306/)\n",
        "- Topic Modeling (our problem!)\n",
        "\n",
        "<img src=\"https://github.com/serendipity-sd/course-nlp/blob/master/images/nmf_doc.png?raw=1\" alt=\"NMF on documents\" style=\"width: 80%\"/>\n",
        "\n",
        "(source: [NMF Tutorial](http://perso.telecom-paristech.fr/~essid/teach/NMF_tutorial_ICME-2014.pdf))"
      ]
    },
    {
      "cell_type": "markdown",
      "metadata": {
        "id": "LItEspzondYr",
        "colab_type": "text"
      },
      "source": [
        "**More Reading**:\n",
        "\n",
        "- [The Why and How of Nonnegative Matrix Factorization](https://arxiv.org/pdf/1401.5226.pdf)"
      ]
    },
    {
      "cell_type": "markdown",
      "metadata": {
        "id": "yiH-Hn3qndYs",
        "colab_type": "text"
      },
      "source": [
        "### NMF from sklearn"
      ]
    },
    {
      "cell_type": "markdown",
      "metadata": {
        "id": "vokqSx9yndYs",
        "colab_type": "text"
      },
      "source": [
        "We will use [scikit-learn's implementation of NMF](http://scikit-learn.org/stable/modules/generated/sklearn.decomposition.NMF.html):"
      ]
    },
    {
      "cell_type": "code",
      "metadata": {
        "id": "kMmyF1DwndYt",
        "colab_type": "code",
        "colab": {}
      },
      "source": [
        "m,n=vectors.shape\n",
        "d=5  # num topics"
      ],
      "execution_count": null,
      "outputs": []
    },
    {
      "cell_type": "code",
      "metadata": {
        "id": "JC-6IFWOndYx",
        "colab_type": "code",
        "colab": {}
      },
      "source": [
        "clf = decomposition.NMF(n_components=d, random_state=1)\n",
        "\n",
        "W1 = clf.fit_transform(vectors)\n",
        "H1 = clf.components_"
      ],
      "execution_count": null,
      "outputs": []
    },
    {
      "cell_type": "code",
      "metadata": {
        "id": "c9buhV8EndY4",
        "colab_type": "code",
        "colab": {}
      },
      "source": [
        "show_topics(H1)"
      ],
      "execution_count": null,
      "outputs": []
    },
    {
      "cell_type": "markdown",
      "metadata": {
        "id": "Y6RJSZtKndY_",
        "colab_type": "text"
      },
      "source": [
        "### TF-IDF"
      ]
    },
    {
      "cell_type": "markdown",
      "metadata": {
        "id": "VzU2cBKyndZA",
        "colab_type": "text"
      },
      "source": [
        "[Topic Frequency-Inverse Document Frequency](http://www.tfidf.com/) (TF-IDF) is a way to normalize term counts by taking into account how often they appear in a document, how long the document is, and how commmon/rare the term is.\n",
        "\n",
        "TF = (# occurrences of term t in document) / (# of words in documents)\n",
        "\n",
        "IDF = log(# of documents / # documents with term t in it)"
      ]
    },
    {
      "cell_type": "code",
      "metadata": {
        "id": "yypyRgdQndZB",
        "colab_type": "code",
        "colab": {}
      },
      "source": [
        "vectorizer_tfidf = TfidfVectorizer(stop_words='english')\n",
        "vectors_tfidf = vectorizer_tfidf.fit_transform(newsgroups_train.data) # (documents, vocab)"
      ],
      "execution_count": null,
      "outputs": []
    },
    {
      "cell_type": "code",
      "metadata": {
        "id": "AbOasFM0ndZG",
        "colab_type": "code",
        "colab": {}
      },
      "source": [
        "newsgroups_train.data[10:20]"
      ],
      "execution_count": null,
      "outputs": []
    },
    {
      "cell_type": "code",
      "metadata": {
        "id": "TEN8P1QindZK",
        "colab_type": "code",
        "colab": {}
      },
      "source": [
        "W1 = clf.fit_transform(vectors_tfidf)\n",
        "H1 = clf.components_"
      ],
      "execution_count": null,
      "outputs": []
    },
    {
      "cell_type": "code",
      "metadata": {
        "id": "FFFhPBOVndZO",
        "colab_type": "code",
        "colab": {}
      },
      "source": [
        "show_topics(H1)"
      ],
      "execution_count": null,
      "outputs": []
    },
    {
      "cell_type": "code",
      "metadata": {
        "id": "9Wr0dKe4ndZR",
        "colab_type": "code",
        "colab": {}
      },
      "source": [
        "plt.plot(clf.components_[0])"
      ],
      "execution_count": null,
      "outputs": []
    },
    {
      "cell_type": "code",
      "metadata": {
        "id": "B3SNg9SkndZW",
        "colab_type": "code",
        "colab": {}
      },
      "source": [
        "clf.reconstruction_err_"
      ],
      "execution_count": null,
      "outputs": []
    },
    {
      "cell_type": "markdown",
      "metadata": {
        "id": "DL4us9nlndZY",
        "colab_type": "text"
      },
      "source": [
        "### NMF in summary"
      ]
    },
    {
      "cell_type": "markdown",
      "metadata": {
        "id": "RQo3jbLwndZY",
        "colab_type": "text"
      },
      "source": [
        "Benefits: Fast and easy to use!\n",
        "\n",
        "Downsides: took years of research and expertise to create"
      ]
    },
    {
      "cell_type": "markdown",
      "metadata": {
        "id": "4trA3ezHndZZ",
        "colab_type": "text"
      },
      "source": [
        "Notes:\n",
        "- For NMF, matrix needs to be at least as tall as it is wide, or we get an error with fit_transform\n",
        "- Can use df_min in CountVectorizer to only look at words that were in at least k of the split texts"
      ]
    },
    {
      "cell_type": "markdown",
      "metadata": {
        "id": "Y-0SywWondZZ",
        "colab_type": "text"
      },
      "source": [
        "## Truncated SVD"
      ]
    },
    {
      "cell_type": "markdown",
      "metadata": {
        "id": "F-6A38NOndZa",
        "colab_type": "text"
      },
      "source": [
        "We saved a lot of time when we calculated NMF by only calculating the subset of columns we were interested in. Is there a way to get this benefit with SVD? Yes there is! It's called truncated SVD.  We are just interested in the vectors corresponding to the **largest** singular values."
      ]
    },
    {
      "cell_type": "markdown",
      "metadata": {
        "id": "WCOW-jKXndZb",
        "colab_type": "text"
      },
      "source": [
        "<img src=\"https://github.com/serendipity-sd/course-nlp/blob/master/images/svd_fb.png?raw=1\" alt=\"\" style=\"width: 80%\"/>\n",
        "\n",
        "(source: [Facebook Research: Fast Randomized SVD](https://research.fb.com/fast-randomized-svd/))"
      ]
    },
    {
      "cell_type": "markdown",
      "metadata": {
        "id": "Rbb3fo37ndZc",
        "colab_type": "text"
      },
      "source": [
        "#### Shortcomings of classical algorithms for decomposition:"
      ]
    },
    {
      "cell_type": "markdown",
      "metadata": {
        "id": "lbCkughHndZc",
        "colab_type": "text"
      },
      "source": [
        "- Matrices are \"stupendously big\"\n",
        "- Data are often **missing or inaccurate**.  Why spend extra computational resources when imprecision of input limits precision of the output?\n",
        "- **Data transfer** now plays a major role in time of algorithms.  Techniques the require fewer passes over the data may be substantially faster, even if they require more flops (flops = floating point operations).\n",
        "- Important to take advantage of **GPUs**.\n",
        "\n",
        "(source: [Halko](https://arxiv.org/abs/0909.4061))"
      ]
    },
    {
      "cell_type": "markdown",
      "metadata": {
        "id": "WP9-LeR-ndZd",
        "colab_type": "text"
      },
      "source": [
        "#### Advantages of randomized algorithms:"
      ]
    },
    {
      "cell_type": "markdown",
      "metadata": {
        "id": "aKyQkWqEndZe",
        "colab_type": "text"
      },
      "source": [
        "- inherently stable\n",
        "- performance guarantees do not depend on subtle spectral properties\n",
        "- needed matrix-vector products can be done in parallel\n",
        "\n",
        "(source: [Halko](https://arxiv.org/abs/0909.4061))"
      ]
    },
    {
      "cell_type": "markdown",
      "metadata": {
        "id": "18Kbe3JundZe",
        "colab_type": "text"
      },
      "source": [
        "### Timing comparison"
      ]
    },
    {
      "cell_type": "code",
      "metadata": {
        "id": "jolXrzEGndZe",
        "colab_type": "code",
        "colab": {}
      },
      "source": [
        "%time u, s, v = np.linalg.svd(vectors, full_matrices=False)"
      ],
      "execution_count": null,
      "outputs": []
    },
    {
      "cell_type": "code",
      "metadata": {
        "id": "ZkfYk9YRndZg",
        "colab_type": "code",
        "colab": {}
      },
      "source": [
        "from sklearn import decomposition\n",
        "import fbpca"
      ],
      "execution_count": null,
      "outputs": []
    },
    {
      "cell_type": "code",
      "metadata": {
        "id": "mnPDCiqjndZj",
        "colab_type": "code",
        "colab": {}
      },
      "source": [
        "%time u, s, v = decomposition.randomized_svd(vectors, 10)"
      ],
      "execution_count": null,
      "outputs": []
    },
    {
      "cell_type": "markdown",
      "metadata": {
        "id": "Ebnct4rGndZm",
        "colab_type": "text"
      },
      "source": [
        "Randomized SVD from Facebook's library fbpca:"
      ]
    },
    {
      "cell_type": "code",
      "metadata": {
        "id": "GpWQ3j-9ndZm",
        "colab_type": "code",
        "colab": {}
      },
      "source": [
        "%time u, s, v = fbpca.pca(vectors, 10)"
      ],
      "execution_count": null,
      "outputs": []
    },
    {
      "cell_type": "markdown",
      "metadata": {
        "id": "GzI2gLF0ndZr",
        "colab_type": "text"
      },
      "source": [
        "For more on randomized SVD, check out my [PyBay 2017 talk](https://www.youtube.com/watch?v=7i6kBz1kZ-A&list=PLtmWHNX-gukLQlMvtRJ19s7-8MrnRV6h6&index=7).\n",
        "\n",
        "For significantly more on randomized SVD, check out the [Computational Linear Algebra course](https://github.com/fastai/numerical-linear-algebra)."
      ]
    },
    {
      "cell_type": "markdown",
      "metadata": {
        "id": "ru6KcqBfndZs",
        "colab_type": "text"
      },
      "source": [
        "## End"
      ]
    }
  ]
}